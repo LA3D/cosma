{
 "cells": [
  {
   "cell_type": "markdown",
   "metadata": {},
   "source": [
    "# core\n",
    "\n",
    "> Our basic extension to cosette to build agentic workflows. This is just base class that defines a decorator to make a function into an Agent"
   ]
  },
  {
   "cell_type": "code",
   "execution_count": null,
   "metadata": {},
   "outputs": [],
   "source": [
    "#| default_exp core\n"
   ]
  },
  {
   "cell_type": "code",
   "execution_count": null,
   "metadata": {},
   "outputs": [],
   "source": [
    "#| export\n",
    "from fastcore.test import *\n",
    "from typing import Callable, Any, Dict\n",
    "from functools import wraps\n",
    "from cosette import Chat"
   ]
  },
  {
   "cell_type": "code",
   "execution_count": null,
   "metadata": {},
   "outputs": [
    {
     "data": {
      "text/plain": [
       "True"
      ]
     },
     "execution_count": null,
     "metadata": {},
     "output_type": "execute_result"
    }
   ],
   "source": [
    "#| hide\n",
    "from nbdev.showdoc import *\n",
    "from datetime import datetime\n",
    "from pprint import pprint\n",
    "from dotenv import load_dotenv\n",
    "\n",
    "## Load keys for testing.\n",
    "load_dotenv()"
   ]
  },
  {
   "cell_type": "code",
   "execution_count": null,
   "metadata": {},
   "outputs": [],
   "source": [
    "#| export\n",
    "def tool(f: Callable) -> Callable:\n",
    "    \"Marks a function as a tool that can be used by agents. Returns the decorated function with `is_tool=True`\"\n",
    "    f.is_tool = True\n",
    "    return f"
   ]
  },
  {
   "cell_type": "code",
   "execution_count": null,
   "metadata": {},
   "outputs": [],
   "source": [
    "#| export\n",
    "def agent(role: str) -> Callable:\n",
    "    \"Creates an agent with a specific role and available tools. Returns a decorator that wraps agent functions.\"\n",
    "    def _inner(f: Callable) -> Callable:\n",
    "        @wraps(f)\n",
    "        def _wrapper(*args, chat=None, **kwargs) -> Dict[str,Any]:\n",
    "            chat = chat or Chat(model)\n",
    "            tools = {n:fn for n,fn in f.__globals__.items() if hasattr(fn,'is_tool')}\n",
    "            chat.system = f\"You are a {role}.\"\n",
    "            for n,t in tools.items(): chat.add_tool(n,t)\n",
    "            return f(*args, chat=chat, **kwargs)\n",
    "        return _wrapper\n",
    "    return _inner"
   ]
  },
  {
   "cell_type": "code",
   "execution_count": null,
   "metadata": {},
   "outputs": [],
   "source": [
    "#| test\n",
    "from fastcore.test import *\n",
    "\n",
    "@tool\n",
    "def sample_tool(x: int) -> int:\n",
    "    \"A sample tool that doubles its input\"\n",
    "    return x * 2\n",
    "\n",
    "@agent(\"calculator\")\n",
    "def use_tool(x: int, chat=None) -> Dict[str,Any]:\n",
    "    \"An agent that uses the sample tool\"\n",
    "    return {'result': sample_tool(x)}\n",
    "\n",
    "def test_tool_decorator():\n",
    "    \"Test that tool decorator adds is_tool attribute\"\n",
    "    test_eq(hasattr(sample_tool, 'is_tool'), True)\n",
    "    test_eq(sample_tool(2), 4)\n",
    "\n",
    "def test_agent_decorator():\n",
    "    \"Test that agent decorator preserves function name and adds chat capability\"\n",
    "    test_eq(use_tool.__name__, 'use_tool')\n",
    "    result = use_tool(3)\n",
    "    test_eq(result['result'], 6)\n",
    "\n",
    "def test_agent_with_chat():\n",
    "    \"Test that agent works with provided chat instance\"\n",
    "    chat = Chat(model)\n",
    "    chat.system = \"Custom system message\"\n",
    "    result = use_tool(3, chat=chat)\n",
    "    test_eq(result['result'], 6)\n",
    "    test_eq(chat.system, \"You are a calculator.\")"
   ]
  },
  {
   "cell_type": "code",
   "execution_count": null,
   "metadata": {},
   "outputs": [],
   "source": [
    "#| hide\n",
    "import nbdev; nbdev.nbdev_export()"
   ]
  }
 ],
 "metadata": {
  "kernelspec": {
   "display_name": "python3",
   "language": "python",
   "name": "python3"
  }
 },
 "nbformat": 4,
 "nbformat_minor": 4
}
