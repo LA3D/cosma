{
 "cells": [
  {
   "cell_type": "code",
   "execution_count": null,
   "metadata": {},
   "outputs": [],
   "source": [
    "#| hide\n",
    "from {{lib_path}}.core import *\n",
    "from nbdev import show_doc\n",
    "from fastcore.utils import *\n",
    "from IPython import display"
   ]
  },
  {
   "cell_type": "markdown",
   "metadata": {},
   "source": [
    "# Cosma\n",
    "> Building composable LLM agents with [cosette](https://github.com/AnswerDotAI/cosette)\n"
   ]
  },
  {
   "cell_type": "markdown",
   "metadata": {},
   "source": [
    "## What is Cosma?\n",
    "\n",
    "Cosma is a library for building LLM-powered agents using cosette. It provides:\n",
    "\n",
    "1. A simple Agent class for creating tool-using LLM agents\n",
    "2. Production-ready logging and metrics collection\n",
    "3. Support for Anthropic's recommended workflow patterns"
   ]
  },
  {
   "cell_type": "markdown",
   "metadata": {},
   "source": [
    "## Quick Start\n",
    "\n",
    "```python\n",
    "from cosma.core import Agent\n",
    "from cosma.logging import AgentLogger\n",
    "import math\n",
    "\n",
    "# Define a tool\n",
    "def solve_math(\n",
    "    expression: str  # Mathematical expression to evaluate\n",
    ") -> float:         # Numerical result\n",
    "    \"\"\"Evaluates mathematical expressions using Python's math module.\"\"\"\n",
    "    return eval(expression, {\"__builtins__\": {}}, \n",
    "               {\"sqrt\": math.sqrt, \"pi\": math.pi})\n",
    "\n",
    "# Create an agent\n",
    "agent = Agent(\n",
    "    role=\"math tutor\",\n",
    "    model=\"gpt-4o\",\n",
    "    tools=[solve_math]\n",
    ")\n",
    "\n",
    "# Use the agent\n",
    "response = agent.run_with_tools(\"What is sqrt(16) + 7?\")\n",
    "```"
   ]
  },
  {
   "cell_type": "markdown",
   "metadata": {},
   "source": [
    "## Core Features\n",
    "\n",
    "1. **Simple Agent Creation**\n",
    "   - Define roles and tools\n",
    "   - Automatic conversation management\n",
    "   - Token usage tracking\n",
    "\n",
    "2. **Production Logging**\n",
    "   - Structured JSON logging\n",
    "   - Metrics collection\n",
    "   - Console and file outputs\n",
    "\n",
    "3. **Tool Integration**\n",
    "   - Type-hinted tool definitions\n",
    "   - Automatic tool documentation\n",
    "   - Safety constraints"
   ]
  },
  {
   "cell_type": "markdown",
   "metadata": {},
   "source": [
    "## Developer Guide"
   ]
  },
  {
   "cell_type": "markdown",
   "metadata": {},
   "source": [
    "If you are new to using `nbdev` here are some useful pointers to get you started."
   ]
  },
  {
   "cell_type": "markdown",
   "metadata": {},
   "source": [
    "### Install cosma in Development mode"
   ]
  },
  {
   "cell_type": "markdown",
   "metadata": {},
   "source": [
    "```sh\n",
    "# make sure {{lib_path}} package is installed in development mode\n",
    "$ pip install -e .\n",
    "\n",
    "# make changes under nbs/ directory\n",
    "# ...\n",
    "\n",
    "# compile to have changes apply to {{lib_path}}\n",
    "$ nbdev_prepare\n",
    "```"
   ]
  },
  {
   "cell_type": "markdown",
   "metadata": {},
   "source": [
    "### UV instructions\n",
    "```sh\n",
    "# Install uv\n",
    "curl -LsSf https://astral.sh/uv/install.sh | sh\n",
    "\n",
    "# Create and activate a virtual environment\n",
    "uv venv\n",
    "source .venv/bin/activate\n",
    "\n",
    "# Install the project in editable mode\n",
    "uv pip install -e \".[dev]\"\n",
    "\n",
    "# Install additional dependencies\n",
    "uv pip install nbdev jupyter\n",
    "```"
   ]
  },
  {
   "cell_type": "markdown",
   "metadata": {},
   "source": [
    "### Installation"
   ]
  },
  {
   "cell_type": "markdown",
   "metadata": {},
   "source": [
    "Install latest from the GitHub [repository][repo]:\n",
    "\n",
    "```sh\n",
    "$ pip install git+https://github.com/la3d/cosma.git\n",
    "```\n",
    "\n",
    "\n",
    "\n",
    "[repo]: https://github.com/la3d/cosma\n",
    "[docs]: https://{{user}}.github.io/cosma\n",
    "[pypi]: https://pypi.org/project/{{lib_name}}/\n",
    "[conda]: https://anaconda.org/{{user}}/{{lib_name}}"
   ]
  },
  {
   "cell_type": "markdown",
   "metadata": {},
   "source": [
    "### Documentation"
   ]
  },
  {
   "cell_type": "markdown",
   "metadata": {},
   "source": [
    "Documentation can be found hosted on this GitHub [repository][repo]'s [pages][docs]. Additionally you can find package manager specific guidelines on [conda][conda] and [pypi][pypi] respectively.\n",
    "\n",
    "[repo]: https://github.com/la3d/cosma\n",
    "[docs]: https://la3d.github.io/cosma/\n",
    "[pypi]: https://pypi.org/project/{{lib_name}}/\n"
   ]
  }
 ],
 "metadata": {
  "kernelspec": {
   "display_name": "python3",
   "language": "python",
   "name": "python3"
  }
 },
 "nbformat": 4,
 "nbformat_minor": 4
}
