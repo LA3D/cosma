{
 "cells": [
  {
   "cell_type": "markdown",
   "metadata": {},
   "source": [
    "# Logging\n",
    "> Production-ready logging capabilities for Cosma agents"
   ]
  },
  {
   "cell_type": "code",
   "execution_count": null,
   "metadata": {},
   "outputs": [],
   "source": [
    "#|default_exp logging\n"
   ]
  },
  {
   "cell_type": "markdown",
   "metadata": {},
   "source": [
    "## Overview\n",
    "\n",
    "This module provides structured logging for agents running in production environments. It follows best practices for:\n",
    "- JSON-structured logs for easy parsing\n",
    "- Separate development and production handlers\n",
    "- Event-based logging for analysis\n",
    "- Token usage and performance metrics\n",
    "- Container-friendly file handling\n"
   ]
  },
  {
   "cell_type": "markdown",
   "metadata": {},
   "source": [
    "\n",
    "## Usage Example\n",
    "\n",
    "```python\n",
    "# Create an agent with production logging\n",
    "agent = Agent(\n",
    "    role=\"production_agent\",\n",
    "    model=\"gpt-4o\",\n",
    "    tools=[solve_math],\n",
    "    log_dir=\"/var/log/cosma\"  # Production log directory\n",
    ")\n",
    "\n",
    "# Logs will include structured data\n",
    "response = agent.run_with_tools(\"Calculate sqrt(16)\")\n",
    "# Log output example:\n",
    "# {\"timestamp\": \"2024-02-15T14:23:45\", \n",
    "#  \"event\": \"tool_call\", \n",
    "#  \"data\": {\"tool\": \"solve_math\", \"args\": {\"expression\": \"sqrt(16)\"}}}\n",
    "```\n",
    "\n"
   ]
  },
  {
   "cell_type": "markdown",
   "metadata": {},
   "source": [
    "## Production Setup\n",
    "\n",
    "For containerized environments:\n",
    "1. Mount a volume for logs: `/var/log/cosma`\n",
    "2. Set LOG_LEVEL environment variable\n",
    "3. Configure log rotation (logrotate recommended)\n"
   ]
  },
  {
   "cell_type": "code",
   "execution_count": null,
   "metadata": {},
   "outputs": [],
   "source": [
    "# | export\n",
    "from cosma.core import *\n",
    "from fastcore.utils import *\n",
    "from fastcore.basics import patch\n",
    "import logging\n",
    "import json\n",
    "from pathlib import Path\n",
    "from dataclasses import dataclass, field\n",
    "from typing import Any, Optional, List, Callable, Dict\n"
   ]
  },
  {
   "cell_type": "code",
   "execution_count": null,
   "metadata": {},
   "outputs": [],
   "source": [
    "# | export\n",
    "@dataclass\n",
    "class AgentLogger:\n",
    "    \"\"\"Structured logging for agent activities with console and file output.\n",
    "    \n",
    "    Args:\n",
    "        name: Logger name (typically agent role)\n",
    "        level: Logging level (default: INFO)\n",
    "        log_dir: Optional directory for log files\n",
    "        \n",
    "    Example:\n",
    "        ```python\n",
    "        logger = AgentLogger(\n",
    "            name=\"math_agent\",\n",
    "            log_dir=\"logs\"\n",
    "        )\n",
    "        logger.log_event(\"tool_called\", \n",
    "            tool=\"solve_math\",\n",
    "            input=\"sqrt(16)\",\n",
    "            result=4.0\n",
    "        )\n",
    "        ```\n",
    "    \"\"\"\n",
    "    name: str\n",
    "    level: int = logging.INFO\n",
    "    log_dir: Optional[str] = None\n",
    "    \n",
    "    def __post_init__(self):\n",
    "        \"\"\"Setup console and optional file handlers with formatters.\"\"\"\n",
    "        self.logger = logging.getLogger(f\"agent.{self.name}\")\n",
    "        self.logger.setLevel(self.level)\n",
    "        \n",
    "        # Prevent duplicate handlers\n",
    "        if not self.logger.handlers:\n",
    "            self._setup_console_handler()\n",
    "            if self.log_dir: self._setup_file_handler()\n"
   ]
  },
  {
   "cell_type": "code",
   "execution_count": null,
   "metadata": {},
   "outputs": [],
   "source": [
    "# | export\n",
    "@patch\n",
    "def _get_formatter(self:AgentLogger):\n",
    "    \"\"\"Create JSON-structured log formatter with metadata.\n",
    "    \n",
    "    Format: [timestamp] logger_name - level - {\"event\": event_type, \"data\": {event_data}}\n",
    "    \"\"\"\n",
    "    return logging.Formatter(\n",
    "        '[%(asctime)s] %(name)s - %(levelname)s - '\n",
    "        '{\"event\": \"%(event)s\", \"data\": %(message)s}'\n",
    "    )\n",
    "\n",
    "@patch\n",
    "def _setup_console_handler(self:AgentLogger):\n",
    "    \"\"\"Configure console output with structured formatting.\"\"\"\n",
    "    console = logging.StreamHandler()\n",
    "    console.setFormatter(self._get_formatter())\n",
    "    self.logger.addHandler(console)\n",
    "\n",
    "@patch\n",
    "def _setup_file_handler(self:AgentLogger):\n",
    "    \"\"\"Configure file output with structured formatting and rotation.\"\"\"\n",
    "    Path(self.log_dir).mkdir(parents=True, exist_ok=True)\n",
    "    file_handler = logging.FileHandler(\n",
    "        Path(self.log_dir)/f\"{self.name}.log\"\n",
    "    )\n",
    "    file_handler.setFormatter(self._get_formatter())\n",
    "    self.logger.addHandler(file_handler)\n"
   ]
  },
  {
   "cell_type": "code",
   "execution_count": null,
   "metadata": {},
   "outputs": [
    {
     "name": "stdout",
     "output_type": "stream",
     "text": [
      "Logger handlers:\n",
      "- StreamHandler\n",
      "- FileHandler\n",
      "\n",
      "Log directory created: True\n"
     ]
    }
   ],
   "source": [
    "# | hide\n",
    "# Test handler setup\n",
    "test_logger = AgentLogger(\n",
    "    name=\"test_agent\",\n",
    "    log_dir=\"test_logs\"\n",
    ")\n",
    "\n",
    "# Verify handlers were created\n",
    "print(\"Logger handlers:\")\n",
    "for h in test_logger.logger.handlers:\n",
    "    print(f\"- {type(h).__name__}\")\n",
    "\n",
    "# Verify log directory\n",
    "if test_logger.log_dir:\n",
    "    print(f\"\\nLog directory created: {Path(test_logger.log_dir).exists()}\")\n"
   ]
  },
  {
   "cell_type": "code",
   "execution_count": null,
   "metadata": {},
   "outputs": [],
   "source": [
    "# | export\n",
    "@patch\n",
    "def log_event(self:AgentLogger, event:str, **data):\n",
    "    \"\"\"Log a structured event with arbitrary data.\n",
    "    \n",
    "    Args:\n",
    "        event: Type of event (e.g., 'prompt_received', 'tool_called')\n",
    "        **data: Arbitrary key-value pairs for event data\n",
    "        \n",
    "    Example:\n",
    "        ```python\n",
    "        logger.log_event('tool_called',\n",
    "            tool_name='solve_math',\n",
    "            input='sqrt(16)',\n",
    "            result=4.0,\n",
    "            execution_time=0.05\n",
    "        )\n",
    "        ```\n",
    "    \"\"\"\n",
    "    extra = {'event': event}\n",
    "    self.logger.info(json.dumps(data), extra=extra)\n"
   ]
  },
  {
   "cell_type": "code",
   "execution_count": null,
   "metadata": {},
   "outputs": [
    {
     "name": "stderr",
     "output_type": "stream",
     "text": [
      "[2025-02-15 11:11:22,663] agent.test_agent - INFO - {\"event\": \"prompt_received\", \"data\": {\"prompt\": \"What is 2+2?\", \"timestamp\": \"2024-02-15T14:30:00\"}}\n",
      "[2025-02-15 11:11:22,664] agent.test_agent - INFO - {\"event\": \"tool_called\", \"data\": {\"tool\": \"solve_math\", \"input\": \"2+2\", \"result\": 4.0, \"execution_time\": 0.05}}\n"
     ]
    },
    {
     "name": "stdout",
     "output_type": "stream",
     "text": [
      "Testing event logging:\n",
      "\n",
      "Last few log entries:\n",
      "[2025-02-15 11:11:22,663] agent.test_agent - INFO - {\"event\": \"prompt_received\", \"data\": {\"prompt\": \"What is 2+2?\", \"timestamp\": \"2024-02-15T14:30:00\"}}\n",
      "\n",
      "[2025-02-15 11:11:22,664] agent.test_agent - INFO - {\"event\": \"tool_called\", \"data\": {\"tool\": \"solve_math\", \"input\": \"2+2\", \"result\": 4.0, \"execution_time\": 0.05}}\n",
      "\n"
     ]
    }
   ],
   "source": [
    "# | hide\n",
    "# Test event logging\n",
    "test_logger = AgentLogger(\"test_agent\", log_dir=\"test_logs\")\n",
    "\n",
    "print(\"Testing event logging:\")\n",
    "# Test prompt event\n",
    "test_logger.log_event(\"prompt_received\",\n",
    "    prompt=\"What is 2+2?\",\n",
    "    timestamp=\"2024-02-15T14:30:00\"\n",
    ")\n",
    "\n",
    "# Test tool usage event\n",
    "test_logger.log_event(\"tool_called\",\n",
    "    tool=\"solve_math\",\n",
    "    input=\"2+2\",\n",
    "    result=4.0,\n",
    "    execution_time=0.05\n",
    ")\n",
    "\n",
    "# Read back the last few lines from the log file\n",
    "log_file = Path(\"test_logs\")/f\"test_agent.log\"\n",
    "print(\"\\nLast few log entries:\")\n",
    "if log_file.exists():\n",
    "    with open(log_file) as f:\n",
    "        print('\\n'.join(f.readlines()[-2:]))\n"
   ]
  },
  {
   "cell_type": "code",
   "execution_count": null,
   "metadata": {},
   "outputs": [],
   "source": [
    "# | export\n",
    "@dataclass\n",
    "class AgentMetrics:\n",
    "    \"\"\"Collect and track agent performance metrics.\n",
    "    \n",
    "    Tracks:\n",
    "    - Token usage\n",
    "    - Tool calls\n",
    "    - Response times\n",
    "    - Success/failure rates\n",
    "    \"\"\"\n",
    "    total_tokens: int = 0\n",
    "    prompt_tokens: int = 0\n",
    "    completion_tokens: int = 0\n",
    "    tool_calls: int = 0\n",
    "    total_time: float = 0.0\n",
    "    successful_calls: int = 0\n",
    "    failed_calls: int = 0\n",
    "\n",
    "@patch\n",
    "def log_metrics(self:AgentLogger, metrics:dict):\n",
    "    \"\"\"Log accumulated metrics for the agent.\n",
    "    \n",
    "    Args:\n",
    "        metrics: Dictionary of metric names and values\n",
    "    \"\"\"\n",
    "    self.log_event('metrics_update', **metrics)\n",
    "\n",
    "@patch\n",
    "def log_completion(self:AgentLogger, chat_completion, execution_time:float):\n",
    "    \"\"\"Log metrics from a chat completion response.\n",
    "    \n",
    "    Args:\n",
    "        chat_completion: Response from cosette Chat\n",
    "        execution_time: Time taken for the complete interaction\n",
    "    \"\"\"\n",
    "    metrics = {\n",
    "        'tokens': chat_completion.usage,\n",
    "        'execution_time': execution_time,\n",
    "        'model': chat_completion.model\n",
    "    }\n",
    "    self.log_metrics(metrics)\n"
   ]
  },
  {
   "cell_type": "code",
   "execution_count": null,
   "metadata": {},
   "outputs": [
    {
     "name": "stderr",
     "output_type": "stream",
     "text": [
      "[2025-02-15 11:13:02,569] agent.test_agent - INFO - {\"event\": \"metrics_update\", \"data\": {\"tokens\": {\"total_tokens\": 150, \"prompt_tokens\": 100, \"completion_tokens\": 50}, \"execution_time\": 0.10320520401000977, \"model\": \"gpt-4o\"}}\n"
     ]
    },
    {
     "name": "stdout",
     "output_type": "stream",
     "text": [
      "Last log entry:\n",
      "[2025-02-15 11:13:02,569] agent.test_agent - INFO - {\"event\": \"metrics_update\", \"data\": {\"tokens\": {\"total_tokens\": 150, \"prompt_tokens\": 100, \"completion_tokens\": 50}, \"execution_time\": 0.10320520401000977, \"model\": \"gpt-4o\"}}\n",
      "\n"
     ]
    }
   ],
   "source": [
    "# | hide\n",
    "# Test metrics logging\n",
    "import time\n",
    "test_logger = AgentLogger(\"test_agent\", log_dir=\"test_logs\")\n",
    "\n",
    "# Simulate a chat completion response\n",
    "@dataclass\n",
    "class MockCompletion:\n",
    "    usage: dict = field(default_factory=lambda: {\"total_tokens\": 150, \"prompt_tokens\": 100, \"completion_tokens\": 50})\n",
    "    model: str = \"gpt-4o\"\n",
    "\n",
    "# Test metrics logging\n",
    "start_time = time.time()\n",
    "time.sleep(0.1)  # Simulate some work\n",
    "completion = MockCompletion()\n",
    "test_logger.log_completion(completion, time.time() - start_time)\n",
    "\n",
    "# Show log output\n",
    "log_file = Path(\"test_logs\")/f\"test_agent.log\"\n",
    "print(\"Last log entry:\")\n",
    "if log_file.exists():\n",
    "    with open(log_file) as f:\n",
    "        print(f.readlines()[-1])\n"
   ]
  }
 ],
 "metadata": {
  "kernelspec": {
   "display_name": "python3",
   "language": "python",
   "name": "python3"
  }
 },
 "nbformat": 4,
 "nbformat_minor": 2
}
