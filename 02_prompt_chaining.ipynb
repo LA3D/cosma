{
 "cells": [
  {
   "cell_type": "code",
   "execution_count": null,
   "metadata": {},
   "outputs": [],
   "source": [
    "#|default_exp prompt_chain\n"
   ]
  },
  {
   "cell_type": "markdown",
   "metadata": {},
   "source": [
    "# Chaining\n",
    "\n",
    "> Prompt Chaining using Costte and Cosma."
   ]
  },
  {
   "cell_type": "markdown",
   "metadata": {},
   "source": [
    "From the [Anthropic Effective Agents Guide](https://www.anthropic.com/research/building-effective-agents)\n",
    "![](https://www.anthropic.com/_next/image?url=https%3A%2F%2Fwww-cdn.anthropic.com%2Fimages%2F4zrzovbb%2Fwebsite%2F7418719e3dab222dccb379b8879e1dc08ad34c78-2401x1000.png&w=3840&q=75)\n",
    "Prompt chaining decomposes a task into a sequence of steps, where each LLM call processes the output of the previous one. You can add programmatic checks (see \"gate” in the diagram below) on any intermediate steps to ensure that the process is still on track.\n",
    "\n",
    "**When to use this workflow:**This workflow is ideal for situations where the task can be easily and cleanly decomposed into fixed subtasks. The main goal is to trade off latency for higher accuracy, by making each LLM call an easier task.\n",
    "\n",
    "Examples where prompt chaining is useful:\n",
    "\n",
    "- Generating Marketing copy, then translating it into a different language.\n",
    "- Writing an outline of a document, checking that the outline meets certain criteria, then writing the document based on the outline."
   ]
  },
  {
   "cell_type": "code",
   "execution_count": null,
   "metadata": {},
   "outputs": [],
   "source": [
    "#| default_exp chain\n"
   ]
  },
  {
   "cell_type": "code",
   "execution_count": null,
   "metadata": {},
   "outputs": [],
   "source": [
    "#| export\n",
    "from cosma.core import Agent\n",
    "from dataclasses import dataclass, field\n",
    "from typing import List, Callable, Dict, Any, Optional\n",
    "from fastcore.basics import patch\n",
    "import re\n",
    "import json\n",
    "from cosette import models\n",
    "from toolslm.xml import json_to_xml, docs_xml, mk_doctype\n"
   ]
  },
  {
   "cell_type": "code",
   "execution_count": null,
   "metadata": {},
   "outputs": [],
   "source": [
    "from IPython.display import display, Markdown"
   ]
  },
  {
   "cell_type": "code",
   "execution_count": null,
   "metadata": {},
   "outputs": [],
   "source": [
    "#| export\n",
    "@dataclass\n",
    "class Chain:\n",
    "    \"\"\"A sequence of agents that process information with flexible input/output types and validation\"\"\"\n",
    "    name: str\n",
    "    agents: List[Agent] = field(default_factory=list)\n",
    "    steps: List[dict] = field(default_factory=list)\n",
    "    input_type: str = \"text\"  # text, image, mixed, structured\n",
    "    output_type: str = \"text\"\n",
    "    validators: List[Callable] = field(default_factory=list)\n",
    "    \n",
    "    def __post_init__(self):\n",
    "        \"\"\"Initialize chain with type checking and validation setup\"\"\"\n",
    "        self.history = []\n",
    "        \n",
    "    @property\n",
    "    def use(self):\n",
    "        \"\"\"Track token usage across chain\"\"\"\n",
    "        return sum((a.chat.use for a in self.agents), start=0)\n",
    "    \n",
    "    def validate(self, step_output, step_num):\n",
    "        \"\"\"Run validators appropriate for the output type\"\"\"\n",
    "        results = []\n",
    "        for v in self.validators:\n",
    "            results.append(v(step_output))\n",
    "        return all(results)"
   ]
  },
  {
   "cell_type": "code",
   "execution_count": null,
   "metadata": {},
   "outputs": [],
   "source": [
    "#| export\n",
    "@patch\n",
    "def __call__(self:Chain, x):\n",
    "    \"\"\"Execute the chain on input x\"\"\"\n",
    "    result = x\n",
    "    for a in self.agents:\n",
    "        curr_input = result\n",
    "        result = a.run_with_tools(result)\n",
    "        self.steps.append(dict(agent=a, input=curr_input, output=result))\n",
    "    return result"
   ]
  },
  {
   "cell_type": "code",
   "execution_count": null,
   "metadata": {},
   "outputs": [],
   "source": [
    "#| export\n",
    "@patch\n",
    "def show(self:Chain):\n",
    "    \"\"\"Display chain execution with clear, readable formatting\"\"\"\n",
    "    md = [f\"# {self.name}\\n\"]\n",
    "    \n",
    "    # Show chain structure\n",
    "    md.append(\"## Structure\")\n",
    "    for i,a in enumerate(self.agents): \n",
    "        md.append(f\"{i+1}. {a.role}\")\n",
    "        if i < len(self.agents)-1: md.append(\"   ↓\")\n",
    "    \n",
    "    # Show execution steps\n",
    "    if self.steps:\n",
    "        md.append(\"\\n## Execution\")\n",
    "        for i,s in enumerate(self.steps):\n",
    "            md.append(f\"\\nStep {i+1}: {s['agent'].role}\")\n",
    "            md.append(f\"\\nInput:\\n```\\n{s['input']}\\n```\")\n",
    "            md.append(f\"\\nOutput:\\n```\\n{s['output']}\\n```\")\n",
    "            if i < len(self.steps)-1: md.append(\"\\n   ↓\")\n",
    "    \n",
    "    return \"\\n\".join(md)\n"
   ]
  },
  {
   "cell_type": "code",
   "execution_count": null,
   "metadata": {},
   "outputs": [
    {
     "data": {
      "text/plain": [
       "'gpt-4o'"
      ]
     },
     "execution_count": null,
     "metadata": {},
     "output_type": "execute_result"
    }
   ],
   "source": [
    "# Let's use Cosette to grab a model \n",
    "model = models[2]\n",
    "model"
   ]
  },
  {
   "cell_type": "markdown",
   "metadata": {},
   "source": [
    "## Basic Chain Composition\n",
    "\n",
    "The Chain class allows simple composition of AI agents using Python's pipe operator (`|`). This provides a clear, readable way to create processing pipelines.\n",
    "\n",
    "## Example: Product Description Translation\n",
    "\n",
    "In this example, we create a chain that:\n",
    "1. Generates a product description in English\n",
    "2. Translates it to Spanish\n",
    "3. Maintains formatting and style\n",
    "\n",
    "```python\n",
    "# Create specialized agents\n",
    "writer = Agent(\"writer\", model, system=\"Create concise, engaging product descriptions\")\n",
    "translator = Agent(\"translator\", model, system=\"Translate while maintaining tone and style\")\n",
    "\n",
    "# Compose the chain\n",
    "chain = Chain(\"product_translator\")\n",
    "chain.agents = [writer, translator]\n",
    "\n",
    "# Test with a simple prompt\n",
    "prompt = \"Describe a smart coffee maker\"\n",
    "result = chain(prompt)\n",
    "```\n",
    "\n",
    "The chain maintains a history of each step, showing inputs and outputs for debugging and analysis."
   ]
  },
  {
   "cell_type": "code",
   "execution_count": null,
   "metadata": {},
   "outputs": [
    {
     "data": {
      "text/markdown": [
       "# product_translator\n",
       "\n",
       "## Structure\n",
       "1. writer\n",
       "   ↓\n",
       "2. translator\n",
       "\n",
       "## Execution\n",
       "\n",
       "Step 1: writer\n",
       "\n",
       "Input:\n",
       "```\n",
       "Describe a smart coffee maker\n",
       "```\n",
       "\n",
       "Output:\n",
       "```\n",
       "Brew the perfect cup every time with our Smart Coffee Maker. Featuring Wi-Fi connectivity, this innovative appliance syncs seamlessly with your smartphone, allowing you to customize brews, set schedules, and receive notifications with ease. With its intuitive touchscreen, voice control compatibility, and auto-cleaning functionality, morning routines have never been more convenient. Ideal for coffee aficionados, it offers precision brewing with programmable strength and temperature settings. Enjoy café-quality coffee at home with smart technology designed to simplify your life.\n",
       "```\n",
       "\n",
       "   ↓\n",
       "\n",
       "Step 2: translator\n",
       "\n",
       "Input:\n",
       "```\n",
       "Brew the perfect cup every time with our Smart Coffee Maker. Featuring Wi-Fi connectivity, this innovative appliance syncs seamlessly with your smartphone, allowing you to customize brews, set schedules, and receive notifications with ease. With its intuitive touchscreen, voice control compatibility, and auto-cleaning functionality, morning routines have never been more convenient. Ideal for coffee aficionados, it offers precision brewing with programmable strength and temperature settings. Enjoy café-quality coffee at home with smart technology designed to simplify your life.\n",
       "```\n",
       "\n",
       "Output:\n",
       "```\n",
       "Prepara la taza perfecta cada vez con nuestra Cafetera Inteligente. Con conectividad Wi-Fi, este innovador aparato se sincroniza sin problemas con tu smartphone, permitiéndote personalizar las preparaciones, establecer horarios y recibir notificaciones con facilidad. Con su pantalla táctil intuitiva, compatibilidad con control por voz y función de autolimpieza, las rutinas matutinas nunca han sido más convenientes. Ideal para los aficionados al café, ofrece una preparación precisa con ajustes programables de intensidad y temperatura. Disfruta de café de calidad de cafetería en casa con tecnología inteligente diseñada para simplificar tu vida.\n",
       "```"
      ],
      "text/plain": [
       "<IPython.core.display.Markdown object>"
      ]
     },
     "metadata": {},
     "output_type": "display_data"
    }
   ],
   "source": [
    "# Create our test agents\n",
    "writer = Agent(\"writer\", model, system=\"Create concise, engaging product descriptions\")\n",
    "translator = Agent(\"translator\", model, system=\"Translate to spanish while maintaining tone and style\")\n",
    "\n",
    "# Simple chain\n",
    "chain = Chain(\"product_translator\")\n",
    "chain.agents = [writer, translator]\n",
    "\n",
    "# Test it\n",
    "prompt = \"Describe a smart coffee maker\"\n",
    "result = chain(prompt)\n",
    "display(Markdown(chain.show()))\n"
   ]
  },
  {
   "cell_type": "markdown",
   "metadata": {},
   "source": [
    "## Structured Data with Chains\n",
    "\n",
    "Following Anthropic's best practices for handling structured data, we can create chains that process and validate XML-formatted information. This approach offers several benefits:\n",
    "\n",
    "1. **Clear Data Structure**: Using XML tags provides explicit structure to agent outputs\n",
    "2. **Validation**: Easy to verify required fields and format\n",
    "3. **Consistent Parsing**: Reliable transformation between formats\n",
    "\n",
    "### Basic Example: Product Analysis Chain\n",
    "\n",
    "We'll create a chain that:\n",
    "- Analyzes product descriptions\n",
    "- Outputs structured XML data\n",
    "- Validates the structure\n",
    "- Transforms data as needed"
   ]
  },
  {
   "cell_type": "code",
   "execution_count": null,
   "metadata": {},
   "outputs": [],
   "source": [
    "# 1. Create the analyzer agent\n",
    "analyzer = Agent(\"product_analyzer\", model,\n",
    "    system=\"\"\"You are a product analyzer. When analyzing products, always provide detailed, structured analysis using XML tags. Be thorough but concise.\"\"\")\n"
   ]
  },
  {
   "cell_type": "code",
   "execution_count": null,
   "metadata": {},
   "outputs": [],
   "source": [
    "# 2. Create a function to format the prompt\n",
    "def create_analysis_prompt(product_description: str) -> str:\n",
    "    return f\"\"\"Here is the format to use for your analysis:\n",
    "\n",
    "<documents>\n",
    "<document index=\"1\">\n",
    "<source>product analysis</source>\n",
    "<document_content>\n",
    "    <features>List key features</features>\n",
    "    <pricing>Price range and considerations</pricing>\n",
    "    <market>Target market segments</market>\n",
    "</document_content>\n",
    "</document>\n",
    "</documents>\n",
    "\n",
    "Analyze this product: {product_description}\"\"\""
   ]
  },
  {
   "cell_type": "code",
   "execution_count": null,
   "metadata": {},
   "outputs": [
    {
     "data": {
      "text/markdown": [
       "# product_analyzer\n",
       "\n",
       "## Structure\n",
       "1. product_analyzer\n",
       "\n",
       "## Execution\n",
       "\n",
       "Step 1: product_analyzer\n",
       "\n",
       "Input:\n",
       "```\n",
       "Analyze this product: A smart home security camera with AI detection, 4K resolution, and cloud storage.\n",
       "```\n",
       "\n",
       "Output:\n",
       "```\n",
       "```xml\n",
       "<ProductAnalysis>\n",
       "    <ProductName>Smart Home Security Camera</ProductName>\n",
       "    <Features>\n",
       "        <Feature>\n",
       "            <Name>AI Detection</Name>\n",
       "            <Description>\n",
       "                The camera incorporates artificial intelligence to distinguish between different types of motion events.\n",
       "                This helps in reducing false alarms by only notifying the user of significant activities, such as identifying\n",
       "                human figures versus animals or passing vehicles.\n",
       "            </Description>\n",
       "        </Feature>\n",
       "        <Feature>\n",
       "            <Name>4K Resolution</Name>\n",
       "            <Description>\n",
       "                Offers ultra-high-definition video quality, providing clear and detailed images that are essential for\n",
       "                identifying faces and other critical details, enhancing the effectiveness of security monitoring.\n",
       "            </Description>\n",
       "        </Feature>\n",
       "        <Feature>\n",
       "            <Name>Cloud Storage</Name>\n",
       "            <Description>\n",
       "                Provides remote storage solutions where recorded footage is automatically uploaded to the cloud.\n",
       "                This feature ensures that video evidence is preserved even if the camera is damaged or stolen.\n",
       "                Various storage plans might be available, offering different capacities and retention periods.\n",
       "            </Description>\n",
       "        </Feature>\n",
       "    </Features>\n",
       "    <Benefits>\n",
       "        <Benefit>\n",
       "            <Description>Enhanced security with AI enabling smarter alert systems and decreased false positives.</Description>\n",
       "        </Benefit>\n",
       "        <Benefit>\n",
       "            <Description>Better image quality with 4K resolution ensures critical details aren't missed.</Description>\n",
       "        </Benefit>\n",
       "        <Benefit>\n",
       "            <Description>Remote access to footage from anywhere, thanks to cloud storage solutions.</Description>\n",
       "        </Benefit>\n",
       "    </Benefits>\n",
       "    <Considerations>\n",
       "        <Consideration>\n",
       "            <Description>Requires a stable internet connection for effective AI processing and cloud storage management.</Description>\n",
       "        </Consideration>\n",
       "        <Consideration>\n",
       "            <Description>May incur additional costs related to cloud storage subscriptions beyond initial purchase.</Description>\n",
       "        </Consideration>\n",
       "        <Consideration>\n",
       "            <Description>High-resolution video files (4K) will consume more bandwidth and storage space than lower resolutions.</Description>\n",
       "        </Consideration>\n",
       "    </Considerations>\n",
       "</ProductAnalysis>\n",
       "```\n",
       "\n",
       "```"
      ],
      "text/plain": [
       "<IPython.core.display.Markdown object>"
      ]
     },
     "metadata": {},
     "output_type": "display_data"
    }
   ],
   "source": [
    "# Create chain with structured output\n",
    "analysis_chain = Chain(\"product_analyzer\")\n",
    "analysis_chain.agents = [analyzer]\n",
    "\n",
    "# Test with a product\n",
    "test_prompt = \"Analyze this product: A smart home security camera with AI detection, 4K resolution, and cloud storage.\"\n",
    "result = analysis_chain(test_prompt)\n",
    "display(Markdown(analysis_chain.show()))\n"
   ]
  },
  {
   "cell_type": "code",
   "execution_count": null,
   "metadata": {},
   "outputs": [],
   "source": [
    "#| export\n",
    "def extract_xml(text: str, tag: str) -> str:\n",
    "    \"\"\"Extract content from XML tags, including CDATA sections\"\"\"\n",
    "    pattern = f'<{tag}>\\s*(?:<!\\[CDATA\\[)?(.*?)(?:\\]\\]>)?\\s*</{tag}>'\n",
    "    match = re.search(pattern, text, re.DOTALL)\n",
    "    return match.group(1).strip() if match else \"\""
   ]
  },
  {
   "cell_type": "code",
   "execution_count": null,
   "metadata": {},
   "outputs": [],
   "source": [
    "def create_analysis_prompt(product_description: str) -> str:\n",
    "    return f\"\"\"Here is the format to use for your analysis:\n",
    "\n",
    "<documents>\n",
    "<document index=\"1\">\n",
    "<source>product analysis</source>\n",
    "<document_content>\n",
    "    <features>\n",
    "    - Key feature 1\n",
    "    - Key feature 2\n",
    "    </features>\n",
    "    <pricing>\n",
    "    - Price range\n",
    "    - Key pricing factors\n",
    "    </pricing>\n",
    "    <market>\n",
    "    - Target market 1\n",
    "    - Target market 2\n",
    "    </market>\n",
    "</document_content>\n",
    "</document>\n",
    "</documents>\n",
    "\n",
    "Analyze this product: {product_description}\"\"\""
   ]
  },
  {
   "cell_type": "code",
   "execution_count": null,
   "metadata": {},
   "outputs": [
    {
     "name": "stdout",
     "output_type": "stream",
     "text": [
      "Features:\n",
      " - AI Detection for advanced motion recognition to minimize false alerts\n",
      "                - 4K Resolution providing detailed and crystal-clear video footage\n",
      "                - Cloud Storage offering secure, remote access to recorded content\n",
      "\n",
      "Pricing:\n",
      " - Price range: $150 to $400\n",
      "                - Key pricing factors: Quality of AI technology, cost of cloud storage subscription, and inclusion of features such as night vision or two-way audio\n",
      "\n",
      "Market:\n",
      " - Target market 1: Tech-savvy homeowners interested in smart security solutions\n",
      "                - Target market 2: Small businesses needing robust surveillance systems\n"
     ]
    }
   ],
   "source": [
    "# First run our analysis\n",
    "test_product = \"A smart home security camera with AI detection, 4K resolution, and cloud storage.\"\n",
    "result = analysis_chain(create_analysis_prompt(test_product))\n",
    "\n",
    "# Now extract from the nested structure\n",
    "document_content = extract_xml(result, 'document_content')\n",
    "features = extract_xml(document_content, 'features')\n",
    "pricing = extract_xml(document_content, 'pricing')\n",
    "market = extract_xml(document_content, 'market')\n",
    "\n",
    "# Show the extracted content\n",
    "print(\"Features:\\n\", features)\n",
    "print(\"\\nPricing:\\n\", pricing)\n",
    "print(\"\\nMarket:\\n\", market)"
   ]
  },
  {
   "cell_type": "code",
   "execution_count": null,
   "metadata": {},
   "outputs": [],
   "source": [
    "#| hide\n",
    "import nbdev; nbdev.nbdev_export()"
   ]
  }
 ],
 "metadata": {
  "kernelspec": {
   "display_name": "python3",
   "language": "python",
   "name": "python3"
  }
 },
 "nbformat": 4,
 "nbformat_minor": 2
}
