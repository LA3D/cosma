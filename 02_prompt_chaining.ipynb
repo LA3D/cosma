{
 "cells": [
  {
   "cell_type": "code",
   "execution_count": null,
   "metadata": {},
   "outputs": [],
   "source": [
    "#|default_exp prompt_chain\n"
   ]
  },
  {
   "cell_type": "markdown",
   "metadata": {},
   "source": [
    "From the [Anthropic Effective Agents Guide](https://www.anthropic.com/research/building-effective-agents)\n",
    "![](https://www.anthropic.com/_next/image?url=https%3A%2F%2Fwww-cdn.anthropic.com%2Fimages%2F4zrzovbb%2Fwebsite%2F7418719e3dab222dccb379b8879e1dc08ad34c78-2401x1000.png&w=3840&q=75)\n",
    "Prompt chaining decomposes a task into a sequence of steps, where each LLM call processes the output of the previous one. You can add programmatic checks (see \"gate” in the diagram below) on any intermediate steps to ensure that the process is still on track.\n",
    "\n",
    "**When to use this workflow:**This workflow is ideal for situations where the task can be easily and cleanly decomposed into fixed subtasks. The main goal is to trade off latency for higher accuracy, by making each LLM call an easier task.\n",
    "\n",
    "Examples where prompt chaining is useful:\n",
    "\n",
    "- Generating Marketing copy, then translating it into a different language.\n",
    "- Writing an outline of a document, checking that the outline meets certain criteria, then writing the document based on the outline."
   ]
  },
  {
   "cell_type": "code",
   "execution_count": null,
   "metadata": {},
   "outputs": [],
   "source": [
    "#| default_exp chain\n"
   ]
  },
  {
   "cell_type": "code",
   "execution_count": null,
   "metadata": {},
   "outputs": [],
   "source": [
    "#| export\n",
    "from cosma.core import Agent\n",
    "from dataclasses import dataclass, field\n",
    "from typing import List, Callable, Dict, Any, Optional\n",
    "from fastcore.basics import patch\n",
    "from cosette import models\n"
   ]
  },
  {
   "cell_type": "code",
   "execution_count": null,
   "metadata": {},
   "outputs": [],
   "source": [
    "from IPython.display import display, Markdown"
   ]
  },
  {
   "cell_type": "code",
   "execution_count": null,
   "metadata": {},
   "outputs": [],
   "source": [
    "#| export\n",
    "@dataclass\n",
    "class Chain:\n",
    "    \"\"\"A sequence of agents that process information with flexible input/output types and validation\"\"\"\n",
    "    name: str\n",
    "    agents: List[Agent] = field(default_factory=list)\n",
    "    steps: List[dict] = field(default_factory=list)\n",
    "    input_type: str = \"text\"  # text, image, mixed, structured\n",
    "    output_type: str = \"text\"\n",
    "    validators: List[Callable] = field(default_factory=list)\n",
    "    \n",
    "    def __post_init__(self):\n",
    "        \"\"\"Initialize chain with type checking and validation setup\"\"\"\n",
    "        self.history = []\n",
    "        \n",
    "    @property\n",
    "    def use(self):\n",
    "        \"\"\"Track token usage across chain\"\"\"\n",
    "        return sum((a.chat.use for a in self.agents), start=0)\n",
    "    \n",
    "    def validate(self, step_output, step_num):\n",
    "        \"\"\"Run validators appropriate for the output type\"\"\"\n",
    "        results = []\n",
    "        for v in self.validators:\n",
    "            results.append(v(step_output))\n",
    "        return all(results)"
   ]
  },
  {
   "cell_type": "code",
   "execution_count": null,
   "metadata": {},
   "outputs": [],
   "source": [
    "#| export\n",
    "@patch\n",
    "def __call__(self:Chain, x):\n",
    "    \"\"\"Execute the chain on input x\"\"\"\n",
    "    result = x\n",
    "    for a in self.agents:\n",
    "        curr_input = result\n",
    "        result = a.run_with_tools(result)\n",
    "        self.steps.append(dict(agent=a, input=curr_input, output=result))\n",
    "    return result"
   ]
  },
  {
   "cell_type": "code",
   "execution_count": null,
   "metadata": {},
   "outputs": [],
   "source": [
    "#| export\n",
    "@patch\n",
    "def show(self:Chain):\n",
    "    \"\"\"Display chain execution with clear, readable formatting\"\"\"\n",
    "    md = [f\"# {self.name}\\n\"]\n",
    "    \n",
    "    # Show chain structure\n",
    "    md.append(\"## Structure\")\n",
    "    for i,a in enumerate(self.agents): \n",
    "        md.append(f\"{i+1}. {a.role}\")\n",
    "        if i < len(self.agents)-1: md.append(\"   ↓\")\n",
    "    \n",
    "    # Show execution steps\n",
    "    if self.steps:\n",
    "        md.append(\"\\n## Execution\")\n",
    "        for i,s in enumerate(self.steps):\n",
    "            md.append(f\"\\nStep {i+1}: {s['agent'].role}\")\n",
    "            md.append(f\"\\nInput:\\n```\\n{s['input']}\\n```\")\n",
    "            md.append(f\"\\nOutput:\\n```\\n{s['output']}\\n```\")\n",
    "            if i < len(self.steps)-1: md.append(\"\\n   ↓\")\n",
    "    \n",
    "    return \"\\n\".join(md)\n"
   ]
  },
  {
   "cell_type": "code",
   "execution_count": null,
   "metadata": {},
   "outputs": [
    {
     "data": {
      "text/plain": [
       "'gpt-4o'"
      ]
     },
     "execution_count": null,
     "metadata": {},
     "output_type": "execute_result"
    }
   ],
   "source": [
    "# Let's use Cosette to grab a model \n",
    "model = models[2]\n",
    "model"
   ]
  },
  {
   "cell_type": "code",
   "execution_count": null,
   "metadata": {},
   "outputs": [
    {
     "data": {
      "text/markdown": [
       "# product_translator\n",
       "\n",
       "## Structure\n",
       "1. writer\n",
       "   ↓\n",
       "2. translator\n",
       "\n",
       "## Execution\n",
       "\n",
       "Step 1: writer\n",
       "\n",
       "Input:\n",
       "```\n",
       "Describe a smart coffee maker\n",
       "```\n",
       "\n",
       "Output:\n",
       "```\n",
       "Brew smarter with the Smart Coffee Maker, the ultimate companion for coffee enthusiasts. This innovative machine lets you customize your brew to perfection with precise temperature and strength controls. Easily schedule your morning cup using a user-friendly app, or command it with voice control via Alexa or Google Assistant. Featuring a sleek design, this coffee maker seamlessly integrates into any modern kitchen, offering rapid heating technology for a perfect cup every time. Enjoy exceptional flavor and convenience with every sip.\n",
       "```\n",
       "\n",
       "   ↓\n",
       "\n",
       "Step 2: translator\n",
       "\n",
       "Input:\n",
       "```\n",
       "Brew smarter with the Smart Coffee Maker, the ultimate companion for coffee enthusiasts. This innovative machine lets you customize your brew to perfection with precise temperature and strength controls. Easily schedule your morning cup using a user-friendly app, or command it with voice control via Alexa or Google Assistant. Featuring a sleek design, this coffee maker seamlessly integrates into any modern kitchen, offering rapid heating technology for a perfect cup every time. Enjoy exceptional flavor and convenience with every sip.\n",
       "```\n",
       "\n",
       "Output:\n",
       "```\n",
       "Elabora con inteligencia con la Cafetera Inteligente, la compañera definitiva para los amantes del café. Esta innovadora máquina te permite personalizar tu café hasta la perfección con controles precisos de temperatura e intensidad. Programa fácilmente tu taza matutina usando una aplicación fácil de usar o comándala con control por voz a través de Alexa o Google Assistant. Con un diseño elegante, esta cafetera se integra perfectamente en cualquier cocina moderna, ofreciendo tecnología de calentamiento rápido para una taza perfecta cada vez. Disfruta de un sabor excepcional y comodidad en cada sorbo.\n",
       "```"
      ],
      "text/plain": [
       "<IPython.core.display.Markdown object>"
      ]
     },
     "metadata": {},
     "output_type": "display_data"
    }
   ],
   "source": [
    "# Create our test agents\n",
    "writer = Agent(\"writer\", model, system=\"Create concise, engaging product descriptions\")\n",
    "translator = Agent(\"translator\", model, system=\"Translate while maintaining tone and style\")\n",
    "\n",
    "# Simple chain\n",
    "chain = Chain(\"product_translator\")\n",
    "chain.agents = [writer, translator]\n",
    "\n",
    "# Test it\n",
    "prompt = \"Describe a smart coffee maker\"\n",
    "result = chain(prompt)\n",
    "display(Markdown(chain.show()))\n"
   ]
  },
  {
   "cell_type": "code",
   "execution_count": null,
   "metadata": {},
   "outputs": [],
   "source": []
  }
 ],
 "metadata": {
  "kernelspec": {
   "display_name": "python3",
   "language": "python",
   "name": "python3"
  }
 },
 "nbformat": 4,
 "nbformat_minor": 2
}
